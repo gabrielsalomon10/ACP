{
 "cells": [
  {
   "cell_type": "markdown",
   "id": "bea7357e",
   "metadata": {},
   "source": [
    "## Análisis de Componentes Principales\n",
    "* Estandarizar los datos para cada una de las columnas.\n",
    "* Realizar la reducción del dataset.\n",
    "* Transformar el dataset original para así obtener datos en el subespacio dimensional."
   ]
  },
  {
   "cell_type": "code",
   "execution_count": 1,
   "id": "de352e20",
   "metadata": {},
   "outputs": [],
   "source": [
    "import pandas as pd # Para manejar los datos"
   ]
  },
  {
   "cell_type": "code",
   "execution_count": 2,
   "id": "36c9c87b",
   "metadata": {},
   "outputs": [],
   "source": [
    "# El df está configurado con un encoding diferente, con este código lo averiguamos\n",
    "# abrimos el archivo con open(ruta archivo, \"r\") y lo asignamos a una variable\n",
    "df = open(\"./Ventas_Videojuegos.csv\",\"r\") \n",
    "# leemos el objeto df --> encoding='cp1252'\n",
    "df\n",
    "# cerramos el open\n",
    "df.close()"
   ]
  },
  {
   "cell_type": "code",
   "execution_count": 3,
   "id": "c62cba12",
   "metadata": {},
   "outputs": [
    {
     "data": {
      "text/html": [
       "<div>\n",
       "<style scoped>\n",
       "    .dataframe tbody tr th:only-of-type {\n",
       "        vertical-align: middle;\n",
       "    }\n",
       "\n",
       "    .dataframe tbody tr th {\n",
       "        vertical-align: top;\n",
       "    }\n",
       "\n",
       "    .dataframe thead th {\n",
       "        text-align: right;\n",
       "    }\n",
       "</style>\n",
       "<table border=\"1\" class=\"dataframe\">\n",
       "  <thead>\n",
       "    <tr style=\"text-align: right;\">\n",
       "      <th></th>\n",
       "      <th>Nombre</th>\n",
       "      <th>Plataforma</th>\n",
       "      <th>Año</th>\n",
       "      <th>Genero</th>\n",
       "      <th>Editorial</th>\n",
       "      <th>Ventas NA</th>\n",
       "      <th>Ventas EU</th>\n",
       "      <th>Ventas JP</th>\n",
       "      <th>Ventas Otros</th>\n",
       "      <th>Ventas Global</th>\n",
       "    </tr>\n",
       "  </thead>\n",
       "  <tbody>\n",
       "    <tr>\n",
       "      <th>0</th>\n",
       "      <td>Wii Sports</td>\n",
       "      <td>Wii</td>\n",
       "      <td>2006</td>\n",
       "      <td>Sports</td>\n",
       "      <td>Nintendo</td>\n",
       "      <td>41,49</td>\n",
       "      <td>29,02</td>\n",
       "      <td>3,77</td>\n",
       "      <td>8,46</td>\n",
       "      <td>82,74</td>\n",
       "    </tr>\n",
       "    <tr>\n",
       "      <th>1</th>\n",
       "      <td>Super Mario Bros.</td>\n",
       "      <td>NES</td>\n",
       "      <td>1985</td>\n",
       "      <td>Platform</td>\n",
       "      <td>Nintendo</td>\n",
       "      <td>29,08</td>\n",
       "      <td>3,58</td>\n",
       "      <td>6,81</td>\n",
       "      <td>0,77</td>\n",
       "      <td>40,24</td>\n",
       "    </tr>\n",
       "    <tr>\n",
       "      <th>2</th>\n",
       "      <td>Mario Kart Wii</td>\n",
       "      <td>Wii</td>\n",
       "      <td>2008</td>\n",
       "      <td>Racing</td>\n",
       "      <td>Nintendo</td>\n",
       "      <td>15,85</td>\n",
       "      <td>12,88</td>\n",
       "      <td>3,79</td>\n",
       "      <td>3,31</td>\n",
       "      <td>35,82</td>\n",
       "    </tr>\n",
       "    <tr>\n",
       "      <th>3</th>\n",
       "      <td>Wii Sports Resort</td>\n",
       "      <td>Wii</td>\n",
       "      <td>2009</td>\n",
       "      <td>Sports</td>\n",
       "      <td>Nintendo</td>\n",
       "      <td>15,75</td>\n",
       "      <td>11,01</td>\n",
       "      <td>3,28</td>\n",
       "      <td>2,96</td>\n",
       "      <td>33</td>\n",
       "    </tr>\n",
       "    <tr>\n",
       "      <th>4</th>\n",
       "      <td>Pokemon Red/Pokemon Blue</td>\n",
       "      <td>GB</td>\n",
       "      <td>1996</td>\n",
       "      <td>Role-Playing</td>\n",
       "      <td>Nintendo</td>\n",
       "      <td>11,27</td>\n",
       "      <td>8,89</td>\n",
       "      <td>10,22</td>\n",
       "      <td>1</td>\n",
       "      <td>31,37</td>\n",
       "    </tr>\n",
       "  </tbody>\n",
       "</table>\n",
       "</div>"
      ],
      "text/plain": [
       "                     Nombre Plataforma   Año        Genero Editorial  \\\n",
       "0                Wii Sports        Wii  2006        Sports  Nintendo   \n",
       "1         Super Mario Bros.        NES  1985      Platform  Nintendo   \n",
       "2            Mario Kart Wii        Wii  2008        Racing  Nintendo   \n",
       "3         Wii Sports Resort        Wii  2009        Sports  Nintendo   \n",
       "4  Pokemon Red/Pokemon Blue         GB  1996  Role-Playing  Nintendo   \n",
       "\n",
       "  Ventas NA Ventas EU Ventas JP Ventas Otros Ventas Global  \n",
       "0     41,49     29,02      3,77         8,46         82,74  \n",
       "1     29,08      3,58      6,81         0,77         40,24  \n",
       "2     15,85     12,88      3,79         3,31         35,82  \n",
       "3     15,75     11,01      3,28         2,96            33  \n",
       "4     11,27      8,89     10,22            1         31,37  "
      ]
     },
     "execution_count": 3,
     "metadata": {},
     "output_type": "execute_result"
    }
   ],
   "source": [
    "# Cargamos el csv en una variable y verificamos\n",
    "df = pd.read_csv(\"./Ventas_Videojuegos.csv\", encoding = \"cp1252\", sep = \";\")\n",
    "df.head()"
   ]
  },
  {
   "cell_type": "code",
   "execution_count": null,
   "id": "20c48b2d",
   "metadata": {},
   "outputs": [],
   "source": [
    "# Para realizar el Análisis de Componentes Principales\n",
    "from sklearn.decomposition import PCA \n",
    "# Para estandarizar los datos (escalarlos a media 0 y desviación estándar 1)\n",
    "from sklearn.preprocessing import StandardScaler \n",
    "# Para operaciones numéricas y matemáticas avanzadas\n",
    "import numpy as np "
   ]
  },
  {
   "cell_type": "code",
   "execution_count": 5,
   "id": "a377869c",
   "metadata": {},
   "outputs": [],
   "source": [
    "# Seleccionamos las columnas con valores numéricos para el ACP\n",
    "cols = ['Ventas NA', 'Ventas EU', 'Ventas JP', 'Ventas Otros', 'Ventas Global']\n",
    "X = df[ cols ]\n",
    "# Verificar si hay valores nulos y manejarlos\n",
    "X = X.fillna(0)  # En este caso lo reemplazamos con 0, pero si queremos se puede sacar el promedio o otro método\n",
    "#Convertimos todos los datos a tipo float\n",
    "for col in cols:\n",
    "     X[col] = X[col].astype(str).str.replace(',', '.', regex = False).astype(float)"
   ]
  },
  {
   "cell_type": "code",
   "execution_count": null,
   "id": "339dae1d",
   "metadata": {},
   "outputs": [],
   "source": [
    "# Crea una instancia de StandardScaler. \n",
    "# Esto evita que las variables con mayores rangos de valores dominen el cálculo de los componentes.\n",
    "scaler = StandardScaler()\n",
    "xEstandarizado = scaler.fit_transform( X ) # Aplicamos la standarizacion, a las columnas numéricas para el PCA"
   ]
  },
  {
   "cell_type": "code",
   "execution_count": 7,
   "id": "d0b676a2",
   "metadata": {},
   "outputs": [],
   "source": [
    "# Elegimos el número de componentes.\n",
    "pca = PCA( n_components = 5 )"
   ]
  },
  {
   "cell_type": "code",
   "execution_count": 8,
   "id": "b439de2b",
   "metadata": {},
   "outputs": [],
   "source": [
    "# Ajustamos el modelo PCA a los datos estandarizados y los transformamos\n",
    "componentesPrincipales = pca.fit_transform( xEstandarizado )"
   ]
  },
  {
   "cell_type": "markdown",
   "id": "f2c04386",
   "metadata": {},
   "source": [
    "### Explicamos los 2 valores en un gráfico\n",
    "* La varianza explicada y la varianza explicada acumulada"
   ]
  },
  {
   "cell_type": "code",
   "execution_count": 9,
   "id": "b7a8a101",
   "metadata": {},
   "outputs": [],
   "source": [
    "import plotly.graph_objs as go\n",
    "#Utilizamos plotly para gráficos interactivos"
   ]
  },
  {
   "cell_type": "code",
   "execution_count": 10,
   "id": "011f5de0",
   "metadata": {},
   "outputs": [
    {
     "name": "stderr",
     "output_type": "stream",
     "text": [
      "c:\\Users\\Cliente\\anaconda3\\Lib\\site-packages\\plotly\\graph_objs\\_deprecations.py:31: DeprecationWarning: plotly.graph_objs.Data is deprecated.\n",
      "Please replace it with a list or tuple of instances of the following types\n",
      "  - plotly.graph_objs.Scatter\n",
      "  - plotly.graph_objs.Bar\n",
      "  - plotly.graph_objs.Area\n",
      "  - plotly.graph_objs.Histogram\n",
      "  - etc.\n",
      "\n",
      "  warnings.warn(\n",
      "c:\\Users\\Cliente\\anaconda3\\Lib\\site-packages\\plotly\\graph_objs\\_deprecations.py:544: DeprecationWarning: plotly.graph_objs.XAxis is deprecated.\n",
      "Please replace it with one of the following more specific types\n",
      "  - plotly.graph_objs.layout.XAxis\n",
      "  - plotly.graph_objs.layout.scene.XAxis\n",
      "\n",
      "  warnings.warn(\n",
      "c:\\Users\\Cliente\\anaconda3\\Lib\\site-packages\\plotly\\graph_objs\\_deprecations.py:572: DeprecationWarning: plotly.graph_objs.YAxis is deprecated.\n",
      "Please replace it with one of the following more specific types\n",
      "  - plotly.graph_objs.layout.YAxis\n",
      "  - plotly.graph_objs.layout.scene.YAxis\n",
      "\n",
      "  warnings.warn(\n"
     ]
    },
    {
     "data": {
      "application/vnd.plotly.v1+json": {
       "config": {
        "plotlyServerURL": "https://plotly.com"
       },
       "data": [
        {
         "showlegend": false,
         "type": "bar",
         "x": [
          "CP 1",
          "CP 2",
          "CP 3",
          "CP 4",
          "CP 5"
         ],
         "y": [
          0.7357241786366976,
          0.15098672764101057,
          0.07145461601620431,
          0.04183292835447496,
          0.0000015493516125182876
         ]
        },
        {
         "name": "% de varianza explicada acumulada",
         "showlegend": true,
         "type": "scatter",
         "x": [
          "CP 1",
          "CP 2",
          "CP 3",
          "CP 4",
          "CP 5"
         ],
         "y": [
          0.7357241786366976,
          0.8867109062777081,
          0.9581655222939124,
          0.9999984506483873,
          0.9999999999999999
         ]
        }
       ],
       "layout": {
        "template": {
         "data": {
          "bar": [
           {
            "error_x": {
             "color": "#2a3f5f"
            },
            "error_y": {
             "color": "#2a3f5f"
            },
            "marker": {
             "line": {
              "color": "#E5ECF6",
              "width": 0.5
             },
             "pattern": {
              "fillmode": "overlay",
              "size": 10,
              "solidity": 0.2
             }
            },
            "type": "bar"
           }
          ],
          "barpolar": [
           {
            "marker": {
             "line": {
              "color": "#E5ECF6",
              "width": 0.5
             },
             "pattern": {
              "fillmode": "overlay",
              "size": 10,
              "solidity": 0.2
             }
            },
            "type": "barpolar"
           }
          ],
          "carpet": [
           {
            "aaxis": {
             "endlinecolor": "#2a3f5f",
             "gridcolor": "white",
             "linecolor": "white",
             "minorgridcolor": "white",
             "startlinecolor": "#2a3f5f"
            },
            "baxis": {
             "endlinecolor": "#2a3f5f",
             "gridcolor": "white",
             "linecolor": "white",
             "minorgridcolor": "white",
             "startlinecolor": "#2a3f5f"
            },
            "type": "carpet"
           }
          ],
          "choropleth": [
           {
            "colorbar": {
             "outlinewidth": 0,
             "ticks": ""
            },
            "type": "choropleth"
           }
          ],
          "contour": [
           {
            "colorbar": {
             "outlinewidth": 0,
             "ticks": ""
            },
            "colorscale": [
             [
              0,
              "#0d0887"
             ],
             [
              0.1111111111111111,
              "#46039f"
             ],
             [
              0.2222222222222222,
              "#7201a8"
             ],
             [
              0.3333333333333333,
              "#9c179e"
             ],
             [
              0.4444444444444444,
              "#bd3786"
             ],
             [
              0.5555555555555556,
              "#d8576b"
             ],
             [
              0.6666666666666666,
              "#ed7953"
             ],
             [
              0.7777777777777778,
              "#fb9f3a"
             ],
             [
              0.8888888888888888,
              "#fdca26"
             ],
             [
              1,
              "#f0f921"
             ]
            ],
            "type": "contour"
           }
          ],
          "contourcarpet": [
           {
            "colorbar": {
             "outlinewidth": 0,
             "ticks": ""
            },
            "type": "contourcarpet"
           }
          ],
          "heatmap": [
           {
            "colorbar": {
             "outlinewidth": 0,
             "ticks": ""
            },
            "colorscale": [
             [
              0,
              "#0d0887"
             ],
             [
              0.1111111111111111,
              "#46039f"
             ],
             [
              0.2222222222222222,
              "#7201a8"
             ],
             [
              0.3333333333333333,
              "#9c179e"
             ],
             [
              0.4444444444444444,
              "#bd3786"
             ],
             [
              0.5555555555555556,
              "#d8576b"
             ],
             [
              0.6666666666666666,
              "#ed7953"
             ],
             [
              0.7777777777777778,
              "#fb9f3a"
             ],
             [
              0.8888888888888888,
              "#fdca26"
             ],
             [
              1,
              "#f0f921"
             ]
            ],
            "type": "heatmap"
           }
          ],
          "heatmapgl": [
           {
            "colorbar": {
             "outlinewidth": 0,
             "ticks": ""
            },
            "colorscale": [
             [
              0,
              "#0d0887"
             ],
             [
              0.1111111111111111,
              "#46039f"
             ],
             [
              0.2222222222222222,
              "#7201a8"
             ],
             [
              0.3333333333333333,
              "#9c179e"
             ],
             [
              0.4444444444444444,
              "#bd3786"
             ],
             [
              0.5555555555555556,
              "#d8576b"
             ],
             [
              0.6666666666666666,
              "#ed7953"
             ],
             [
              0.7777777777777778,
              "#fb9f3a"
             ],
             [
              0.8888888888888888,
              "#fdca26"
             ],
             [
              1,
              "#f0f921"
             ]
            ],
            "type": "heatmapgl"
           }
          ],
          "histogram": [
           {
            "marker": {
             "pattern": {
              "fillmode": "overlay",
              "size": 10,
              "solidity": 0.2
             }
            },
            "type": "histogram"
           }
          ],
          "histogram2d": [
           {
            "colorbar": {
             "outlinewidth": 0,
             "ticks": ""
            },
            "colorscale": [
             [
              0,
              "#0d0887"
             ],
             [
              0.1111111111111111,
              "#46039f"
             ],
             [
              0.2222222222222222,
              "#7201a8"
             ],
             [
              0.3333333333333333,
              "#9c179e"
             ],
             [
              0.4444444444444444,
              "#bd3786"
             ],
             [
              0.5555555555555556,
              "#d8576b"
             ],
             [
              0.6666666666666666,
              "#ed7953"
             ],
             [
              0.7777777777777778,
              "#fb9f3a"
             ],
             [
              0.8888888888888888,
              "#fdca26"
             ],
             [
              1,
              "#f0f921"
             ]
            ],
            "type": "histogram2d"
           }
          ],
          "histogram2dcontour": [
           {
            "colorbar": {
             "outlinewidth": 0,
             "ticks": ""
            },
            "colorscale": [
             [
              0,
              "#0d0887"
             ],
             [
              0.1111111111111111,
              "#46039f"
             ],
             [
              0.2222222222222222,
              "#7201a8"
             ],
             [
              0.3333333333333333,
              "#9c179e"
             ],
             [
              0.4444444444444444,
              "#bd3786"
             ],
             [
              0.5555555555555556,
              "#d8576b"
             ],
             [
              0.6666666666666666,
              "#ed7953"
             ],
             [
              0.7777777777777778,
              "#fb9f3a"
             ],
             [
              0.8888888888888888,
              "#fdca26"
             ],
             [
              1,
              "#f0f921"
             ]
            ],
            "type": "histogram2dcontour"
           }
          ],
          "mesh3d": [
           {
            "colorbar": {
             "outlinewidth": 0,
             "ticks": ""
            },
            "type": "mesh3d"
           }
          ],
          "parcoords": [
           {
            "line": {
             "colorbar": {
              "outlinewidth": 0,
              "ticks": ""
             }
            },
            "type": "parcoords"
           }
          ],
          "pie": [
           {
            "automargin": true,
            "type": "pie"
           }
          ],
          "scatter": [
           {
            "fillpattern": {
             "fillmode": "overlay",
             "size": 10,
             "solidity": 0.2
            },
            "type": "scatter"
           }
          ],
          "scatter3d": [
           {
            "line": {
             "colorbar": {
              "outlinewidth": 0,
              "ticks": ""
             }
            },
            "marker": {
             "colorbar": {
              "outlinewidth": 0,
              "ticks": ""
             }
            },
            "type": "scatter3d"
           }
          ],
          "scattercarpet": [
           {
            "marker": {
             "colorbar": {
              "outlinewidth": 0,
              "ticks": ""
             }
            },
            "type": "scattercarpet"
           }
          ],
          "scattergeo": [
           {
            "marker": {
             "colorbar": {
              "outlinewidth": 0,
              "ticks": ""
             }
            },
            "type": "scattergeo"
           }
          ],
          "scattergl": [
           {
            "marker": {
             "colorbar": {
              "outlinewidth": 0,
              "ticks": ""
             }
            },
            "type": "scattergl"
           }
          ],
          "scattermapbox": [
           {
            "marker": {
             "colorbar": {
              "outlinewidth": 0,
              "ticks": ""
             }
            },
            "type": "scattermapbox"
           }
          ],
          "scatterpolar": [
           {
            "marker": {
             "colorbar": {
              "outlinewidth": 0,
              "ticks": ""
             }
            },
            "type": "scatterpolar"
           }
          ],
          "scatterpolargl": [
           {
            "marker": {
             "colorbar": {
              "outlinewidth": 0,
              "ticks": ""
             }
            },
            "type": "scatterpolargl"
           }
          ],
          "scatterternary": [
           {
            "marker": {
             "colorbar": {
              "outlinewidth": 0,
              "ticks": ""
             }
            },
            "type": "scatterternary"
           }
          ],
          "surface": [
           {
            "colorbar": {
             "outlinewidth": 0,
             "ticks": ""
            },
            "colorscale": [
             [
              0,
              "#0d0887"
             ],
             [
              0.1111111111111111,
              "#46039f"
             ],
             [
              0.2222222222222222,
              "#7201a8"
             ],
             [
              0.3333333333333333,
              "#9c179e"
             ],
             [
              0.4444444444444444,
              "#bd3786"
             ],
             [
              0.5555555555555556,
              "#d8576b"
             ],
             [
              0.6666666666666666,
              "#ed7953"
             ],
             [
              0.7777777777777778,
              "#fb9f3a"
             ],
             [
              0.8888888888888888,
              "#fdca26"
             ],
             [
              1,
              "#f0f921"
             ]
            ],
            "type": "surface"
           }
          ],
          "table": [
           {
            "cells": {
             "fill": {
              "color": "#EBF0F8"
             },
             "line": {
              "color": "white"
             }
            },
            "header": {
             "fill": {
              "color": "#C8D4E3"
             },
             "line": {
              "color": "white"
             }
            },
            "type": "table"
           }
          ]
         },
         "layout": {
          "annotationdefaults": {
           "arrowcolor": "#2a3f5f",
           "arrowhead": 0,
           "arrowwidth": 1
          },
          "autotypenumbers": "strict",
          "coloraxis": {
           "colorbar": {
            "outlinewidth": 0,
            "ticks": ""
           }
          },
          "colorscale": {
           "diverging": [
            [
             0,
             "#8e0152"
            ],
            [
             0.1,
             "#c51b7d"
            ],
            [
             0.2,
             "#de77ae"
            ],
            [
             0.3,
             "#f1b6da"
            ],
            [
             0.4,
             "#fde0ef"
            ],
            [
             0.5,
             "#f7f7f7"
            ],
            [
             0.6,
             "#e6f5d0"
            ],
            [
             0.7,
             "#b8e186"
            ],
            [
             0.8,
             "#7fbc41"
            ],
            [
             0.9,
             "#4d9221"
            ],
            [
             1,
             "#276419"
            ]
           ],
           "sequential": [
            [
             0,
             "#0d0887"
            ],
            [
             0.1111111111111111,
             "#46039f"
            ],
            [
             0.2222222222222222,
             "#7201a8"
            ],
            [
             0.3333333333333333,
             "#9c179e"
            ],
            [
             0.4444444444444444,
             "#bd3786"
            ],
            [
             0.5555555555555556,
             "#d8576b"
            ],
            [
             0.6666666666666666,
             "#ed7953"
            ],
            [
             0.7777777777777778,
             "#fb9f3a"
            ],
            [
             0.8888888888888888,
             "#fdca26"
            ],
            [
             1,
             "#f0f921"
            ]
           ],
           "sequentialminus": [
            [
             0,
             "#0d0887"
            ],
            [
             0.1111111111111111,
             "#46039f"
            ],
            [
             0.2222222222222222,
             "#7201a8"
            ],
            [
             0.3333333333333333,
             "#9c179e"
            ],
            [
             0.4444444444444444,
             "#bd3786"
            ],
            [
             0.5555555555555556,
             "#d8576b"
            ],
            [
             0.6666666666666666,
             "#ed7953"
            ],
            [
             0.7777777777777778,
             "#fb9f3a"
            ],
            [
             0.8888888888888888,
             "#fdca26"
            ],
            [
             1,
             "#f0f921"
            ]
           ]
          },
          "colorway": [
           "#636efa",
           "#EF553B",
           "#00cc96",
           "#ab63fa",
           "#FFA15A",
           "#19d3f3",
           "#FF6692",
           "#B6E880",
           "#FF97FF",
           "#FECB52"
          ],
          "font": {
           "color": "#2a3f5f"
          },
          "geo": {
           "bgcolor": "white",
           "lakecolor": "white",
           "landcolor": "#E5ECF6",
           "showlakes": true,
           "showland": true,
           "subunitcolor": "white"
          },
          "hoverlabel": {
           "align": "left"
          },
          "hovermode": "closest",
          "mapbox": {
           "style": "light"
          },
          "paper_bgcolor": "white",
          "plot_bgcolor": "#E5ECF6",
          "polar": {
           "angularaxis": {
            "gridcolor": "white",
            "linecolor": "white",
            "ticks": ""
           },
           "bgcolor": "#E5ECF6",
           "radialaxis": {
            "gridcolor": "white",
            "linecolor": "white",
            "ticks": ""
           }
          },
          "scene": {
           "xaxis": {
            "backgroundcolor": "#E5ECF6",
            "gridcolor": "white",
            "gridwidth": 2,
            "linecolor": "white",
            "showbackground": true,
            "ticks": "",
            "zerolinecolor": "white"
           },
           "yaxis": {
            "backgroundcolor": "#E5ECF6",
            "gridcolor": "white",
            "gridwidth": 2,
            "linecolor": "white",
            "showbackground": true,
            "ticks": "",
            "zerolinecolor": "white"
           },
           "zaxis": {
            "backgroundcolor": "#E5ECF6",
            "gridcolor": "white",
            "gridwidth": 2,
            "linecolor": "white",
            "showbackground": true,
            "ticks": "",
            "zerolinecolor": "white"
           }
          },
          "shapedefaults": {
           "line": {
            "color": "#2a3f5f"
           }
          },
          "ternary": {
           "aaxis": {
            "gridcolor": "white",
            "linecolor": "white",
            "ticks": ""
           },
           "baxis": {
            "gridcolor": "white",
            "linecolor": "white",
            "ticks": ""
           },
           "bgcolor": "#E5ECF6",
           "caxis": {
            "gridcolor": "white",
            "linecolor": "white",
            "ticks": ""
           }
          },
          "title": {
           "x": 0.05
          },
          "xaxis": {
           "automargin": true,
           "gridcolor": "white",
           "linecolor": "white",
           "ticks": "",
           "title": {
            "standoff": 15
           },
           "zerolinecolor": "white",
           "zerolinewidth": 2
          },
          "yaxis": {
           "automargin": true,
           "gridcolor": "white",
           "linecolor": "white",
           "ticks": "",
           "title": {
            "standoff": 15
           },
           "zerolinecolor": "white",
           "zerolinewidth": 2
          }
         }
        },
        "title": {
         "text": "% de variabilidad explicada por cada componente principal"
        },
        "xaxis": {
         "title": {
          "text": "Componentes principales"
         }
        },
        "yaxis": {
         "title": {
          "text": "% de varianza explicada"
         }
        }
       }
      }
     },
     "metadata": {},
     "output_type": "display_data"
    }
   ],
   "source": [
    "plot1 = go.Bar( x = [\"CP %s\"%i for i in range(1, 6)], y = pca.explained_variance_ratio_, showlegend = False ) #CP = componente principal\n",
    "plot2 = go.Scatter( x = [\"CP %s\"%i for i in range(1, 6)], y = np.cumsum( pca.explained_variance_ratio_ ), showlegend = True, name = \"% de varianza explicada acumulada\" )\n",
    "data = go.Data([ plot1, plot2 ])\n",
    "layout = go.Layout( xaxis = go.XAxis( title = \"Componentes principales\"),\n",
    "                    yaxis = go.YAxis( title = \"% de varianza explicada\" ),\n",
    "                    title = \"% de variabilidad explicada por cada componente principal\" \n",
    "                    )\n",
    "fig = go.Figure( data, layout )\n",
    "fig.show()"
   ]
  },
  {
   "cell_type": "code",
   "execution_count": 11,
   "id": "63a4ef62",
   "metadata": {},
   "outputs": [
    {
     "name": "stdout",
     "output_type": "stream",
     "text": [
      "Varianza explicada acumulada en %: [0.73572418 0.88671091 0.95816552 0.99999845 1.        ]\n"
     ]
    }
   ],
   "source": [
    "# Verificamos la varianza explicada acumulada por los componentes seleccionados\n",
    "varExpCum = np.cumsum( pca.explained_variance_ratio_ )\n",
    "print(\"Varianza explicada acumulada en %:\", varExpCum)"
   ]
  },
  {
   "cell_type": "markdown",
   "id": "0551362a",
   "metadata": {},
   "source": [
    "* Observamos en el gráfico que utilizando 3 de los 5 componentes obtenemos el 95 % de los datos.\n",
    "* Lo que considero suficiente para poder recortar gran parte del dataset sin alterar su funcionamiento."
   ]
  },
  {
   "cell_type": "markdown",
   "id": "10c24f44",
   "metadata": {},
   "source": [
    "### Reducción de componentes\n",
    "* Estandarizamos nuevamente para recortar nuestros datos."
   ]
  },
  {
   "cell_type": "code",
   "execution_count": 12,
   "id": "ef2b3070",
   "metadata": {},
   "outputs": [],
   "source": [
    "# Elegimos el número de componentes.\n",
    "pca = PCA( n_components = 3 )\n",
    "# Ajustamos el modelo PCA a los datos estandarizados y los transformamos\n",
    "componentesPrincipales = pca.fit_transform( xEstandarizado )"
   ]
  },
  {
   "cell_type": "code",
   "execution_count": 13,
   "id": "cd681e5f",
   "metadata": {},
   "outputs": [
    {
     "name": "stdout",
     "output_type": "stream",
     "text": [
      "DataFrame con los Componentes Principales:\n",
      "           PC1        PC2        PC3\n",
      "0  100.445216  20.631828  -6.802817\n",
      "1   41.484198 -14.451379 -16.608134\n",
      "2   43.638878   1.974957  -0.704624\n",
      "3   39.593035   2.026401  -1.936774\n",
      "4   37.306433 -23.156630   0.941124\n",
      "\n",
      "Varianza explicada por cada componente en %: [0.73572418 0.15098673 0.07145462]\n",
      "Varianza explicada acumulada en %: [0.73572418 0.88671091 0.95816552]\n"
     ]
    }
   ],
   "source": [
    "# Creamos un DataFrame con los componentes principales\n",
    "# Los nombres de las columnas serán PC1, PC2, PC3\n",
    "dfReducido = pd.DataFrame( data = componentesPrincipales,\n",
    "                           columns=['PC1', 'PC2', 'PC3'] )\n",
    "\n",
    "print(\"DataFrame con los Componentes Principales:\\n\", dfReducido.head())\n",
    "# Verificamos la varianza explicada y la varianza acumulada explicada por los componentes seleccionados\n",
    "varExp = pca.explained_variance_ratio_\n",
    "varExpCum = np.cumsum( pca.explained_variance_ratio_ )\n",
    "print(\"\\nVarianza explicada por cada componente en %:\", pca.explained_variance_ratio_ )\n",
    "print(\"Varianza explicada acumulada en %:\", np.cumsum( pca.explained_variance_ratio_ ))\n"
   ]
  },
  {
   "cell_type": "code",
   "execution_count": null,
   "id": "882c92cd",
   "metadata": {},
   "outputs": [],
   "source": [
    "# Guardamos el DataFrame a un archivo CSV\n",
    "# index=False es importante para no guardar el índice del DataFrame como una columna en el CSV\n",
    "dfReducido.to_csv( \"dfReducido.csv\", index = False )"
   ]
  },
  {
   "cell_type": "markdown",
   "id": "aaa53d80",
   "metadata": {},
   "source": [
    "#### El resto del código es solo por si queremos ver los valores que contiene PC1 PC2 y PC3"
   ]
  },
  {
   "cell_type": "code",
   "execution_count": 14,
   "id": "4e369416",
   "metadata": {},
   "outputs": [
    {
     "data": {
      "text/plain": [
       "array([[ 0.47284015,  0.47694446,  0.32155877,  0.42088079,  0.51807867],\n",
       "       [ 0.0718796 ,  0.17448217, -0.88199007,  0.4308726 , -0.02883775],\n",
       "       [-0.59507165, -0.05121852,  0.29972299,  0.72137361, -0.18180384]])"
      ]
     },
     "execution_count": 14,
     "metadata": {},
     "output_type": "execute_result"
    }
   ],
   "source": [
    "# Obtenemos los loadings (cargas)\n",
    "pca.components_ \n",
    "# Contiene los vectores propios (eigenvectors) que representan las cargas de cada variable original en cada componente."
   ]
  },
  {
   "cell_type": "code",
   "execution_count": null,
   "id": "0a56c527",
   "metadata": {},
   "outputs": [
    {
     "name": "stdout",
     "output_type": "stream",
     "text": [
      "--- Cargas (Loadings) de las Variables Originales en cada Componente Principal ---\n",
      "     Ventas NA  Ventas EU  Ventas JP  Ventas Otros  Ventas Global\n",
      "PC1   0.472840   0.476944   0.321559      0.420881       0.518079\n",
      "PC2   0.071880   0.174482  -0.881990      0.430873      -0.028838\n",
      "PC3  -0.595072  -0.051219   0.299723      0.721374      -0.181804\n",
      "\n",
      "--- Varianza Explicada por cada Componente ---\n",
      "Varianza explicada por cada componente: [0.73572418 0.15098673 0.07145462]\n",
      "Varianza explicada acumulada: [0.73572418 0.88671091 0.95816552]\n"
     ]
    }
   ],
   "source": [
    "# Generamos un DataFrame por si queremos examinar los datos dentro de PC1 PC2 y PC3\n",
    "dfLoadings = pd.DataFrame( \n",
    "                            pca.components_,\n",
    "                            columns = X.columns,\n",
    "                            index=['PC1', 'PC2', 'PC3']\n",
    "                        )\n",
    "print(\"--- Cargas (Loadings) de las Variables Originales en cada Componente Principal ---\")\n",
    "print( dfLoadings )\n",
    "\n",
    "print(\"\\n--- Varianza Explicada por cada Componente ---\")\n",
    "print(\"Varianza explicada por cada componente:\", varExp )\n",
    "print(\"Varianza explicada acumulada:\", varExpCum )\n",
    "# El PC1 representa el volumen general de ventas, ya que las ventas en todas las regiones tienen una alta carga positiva en él."
   ]
  }
 ],
 "metadata": {
  "kernelspec": {
   "display_name": "base",
   "language": "python",
   "name": "python3"
  },
  "language_info": {
   "codemirror_mode": {
    "name": "ipython",
    "version": 3
   },
   "file_extension": ".py",
   "mimetype": "text/x-python",
   "name": "python",
   "nbconvert_exporter": "python",
   "pygments_lexer": "ipython3",
   "version": "3.12.4"
  }
 },
 "nbformat": 4,
 "nbformat_minor": 5
}
